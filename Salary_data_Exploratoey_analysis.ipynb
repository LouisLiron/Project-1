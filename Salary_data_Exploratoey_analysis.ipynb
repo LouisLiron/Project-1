{
 "cells": [
  {
   "cell_type": "code",
   "execution_count": 2,
   "id": "5bc86045-fcb6-4206-b3ce-2950169f9434",
   "metadata": {},
   "outputs": [],
   "source": [
    "#importing necessary libraries\n",
    "import numpy as np\n",
    "import pandas as pd \n",
    "import matplotlib.pyplot as plt\n",
    "import seaborn as sns\n",
    "sns.set(style='dark')\n",
    "import warnings \n",
    "warnings.filterwarnings('ignore')"
   ]
  },
  {
   "cell_type": "code",
   "execution_count": 120,
   "id": "a89c10a5-acc4-4023-aa80-5e588e25c39b",
   "metadata": {},
   "outputs": [
    {
     "data": {
      "text/html": [
       "<div>\n",
       "<style scoped>\n",
       "    .dataframe tbody tr th:only-of-type {\n",
       "        vertical-align: middle;\n",
       "    }\n",
       "\n",
       "    .dataframe tbody tr th {\n",
       "        vertical-align: top;\n",
       "    }\n",
       "\n",
       "    .dataframe thead th {\n",
       "        text-align: right;\n",
       "    }\n",
       "</style>\n",
       "<table border=\"1\" class=\"dataframe\">\n",
       "  <thead>\n",
       "    <tr style=\"text-align: right;\">\n",
       "      <th></th>\n",
       "      <th>Age</th>\n",
       "      <th>Gender</th>\n",
       "      <th>Education_Level</th>\n",
       "      <th>Job Title</th>\n",
       "      <th>Divisions</th>\n",
       "      <th>Years of Experience</th>\n",
       "      <th>Rank</th>\n",
       "      <th>Salary</th>\n",
       "      <th>Salary_division</th>\n",
       "    </tr>\n",
       "  </thead>\n",
       "  <tbody>\n",
       "    <tr>\n",
       "      <th>0</th>\n",
       "      <td>29</td>\n",
       "      <td>Female</td>\n",
       "      <td>Master's Degree</td>\n",
       "      <td>Data Scientist</td>\n",
       "      <td>Science and Analytics</td>\n",
       "      <td>4.0</td>\n",
       "      <td>Junior</td>\n",
       "      <td>182000</td>\n",
       "      <td>High</td>\n",
       "    </tr>\n",
       "    <tr>\n",
       "      <th>1</th>\n",
       "      <td>30</td>\n",
       "      <td>Male</td>\n",
       "      <td>PhD</td>\n",
       "      <td>Data Scientist</td>\n",
       "      <td>Science and Analytics</td>\n",
       "      <td>5.0</td>\n",
       "      <td>Junior</td>\n",
       "      <td>180000</td>\n",
       "      <td>High</td>\n",
       "    </tr>\n",
       "    <tr>\n",
       "      <th>2</th>\n",
       "      <td>45</td>\n",
       "      <td>Male</td>\n",
       "      <td>PhD</td>\n",
       "      <td>Senior Manager</td>\n",
       "      <td>Managerial</td>\n",
       "      <td>15.0</td>\n",
       "      <td>Senior</td>\n",
       "      <td>150000</td>\n",
       "      <td>High</td>\n",
       "    </tr>\n",
       "    <tr>\n",
       "      <th>3</th>\n",
       "      <td>36</td>\n",
       "      <td>Female</td>\n",
       "      <td>Bachelor's</td>\n",
       "      <td>Sales Associate</td>\n",
       "      <td>Sales</td>\n",
       "      <td>7.0</td>\n",
       "      <td>Mid-level</td>\n",
       "      <td>60000</td>\n",
       "      <td>Low</td>\n",
       "    </tr>\n",
       "    <tr>\n",
       "      <th>4</th>\n",
       "      <td>52</td>\n",
       "      <td>Male</td>\n",
       "      <td>Master's</td>\n",
       "      <td>Director</td>\n",
       "      <td>Director</td>\n",
       "      <td>20.0</td>\n",
       "      <td>Senior</td>\n",
       "      <td>200000</td>\n",
       "      <td>High</td>\n",
       "    </tr>\n",
       "    <tr>\n",
       "      <th>...</th>\n",
       "      <td>...</td>\n",
       "      <td>...</td>\n",
       "      <td>...</td>\n",
       "      <td>...</td>\n",
       "      <td>...</td>\n",
       "      <td>...</td>\n",
       "      <td>...</td>\n",
       "      <td>...</td>\n",
       "      <td>...</td>\n",
       "    </tr>\n",
       "    <tr>\n",
       "      <th>6659</th>\n",
       "      <td>49</td>\n",
       "      <td>Female</td>\n",
       "      <td>PhD</td>\n",
       "      <td>Director of Marketing</td>\n",
       "      <td>Director</td>\n",
       "      <td>20.0</td>\n",
       "      <td>Senior</td>\n",
       "      <td>200000</td>\n",
       "      <td>High</td>\n",
       "    </tr>\n",
       "    <tr>\n",
       "      <th>6660</th>\n",
       "      <td>25</td>\n",
       "      <td>Female</td>\n",
       "      <td>Bachelor's Degree</td>\n",
       "      <td>Front end Developer</td>\n",
       "      <td>Developer</td>\n",
       "      <td>1.0</td>\n",
       "      <td>Junior</td>\n",
       "      <td>550</td>\n",
       "      <td>Low</td>\n",
       "    </tr>\n",
       "    <tr>\n",
       "      <th>6661</th>\n",
       "      <td>31</td>\n",
       "      <td>Female</td>\n",
       "      <td>Bachelor's Degree</td>\n",
       "      <td>Junior HR Coordinator</td>\n",
       "      <td>HR</td>\n",
       "      <td>4.0</td>\n",
       "      <td>Junior</td>\n",
       "      <td>500</td>\n",
       "      <td>Low</td>\n",
       "    </tr>\n",
       "    <tr>\n",
       "      <th>6662</th>\n",
       "      <td>46</td>\n",
       "      <td>Male</td>\n",
       "      <td>Master's Degree</td>\n",
       "      <td>Marketing Manager</td>\n",
       "      <td>Managerial</td>\n",
       "      <td>14.0</td>\n",
       "      <td>Mid-level</td>\n",
       "      <td>140000</td>\n",
       "      <td>High</td>\n",
       "    </tr>\n",
       "    <tr>\n",
       "      <th>6663</th>\n",
       "      <td>29</td>\n",
       "      <td>Male</td>\n",
       "      <td>Bachelor's</td>\n",
       "      <td>Junior Business Operations Analyst</td>\n",
       "      <td>Business</td>\n",
       "      <td>1.5</td>\n",
       "      <td>Junior</td>\n",
       "      <td>350</td>\n",
       "      <td>Low</td>\n",
       "    </tr>\n",
       "  </tbody>\n",
       "</table>\n",
       "<p>6664 rows × 9 columns</p>\n",
       "</div>"
      ],
      "text/plain": [
       "      Age  Gender    Education_Level                           Job Title  \\\n",
       "0      29  Female    Master's Degree                      Data Scientist   \n",
       "1      30    Male                PhD                      Data Scientist   \n",
       "2      45    Male                PhD                      Senior Manager   \n",
       "3      36  Female         Bachelor's                     Sales Associate   \n",
       "4      52    Male           Master's                            Director   \n",
       "...   ...     ...                ...                                 ...   \n",
       "6659   49  Female                PhD               Director of Marketing   \n",
       "6660   25  Female  Bachelor's Degree                 Front end Developer   \n",
       "6661   31  Female  Bachelor's Degree               Junior HR Coordinator   \n",
       "6662   46    Male    Master's Degree                   Marketing Manager   \n",
       "6663   29    Male         Bachelor's  Junior Business Operations Analyst   \n",
       "\n",
       "                  Divisions  Years of Experience       Rank  Salary  \\\n",
       "0     Science and Analytics                  4.0     Junior  182000   \n",
       "1     Science and Analytics                  5.0     Junior  180000   \n",
       "2                Managerial                 15.0     Senior  150000   \n",
       "3                     Sales                  7.0  Mid-level   60000   \n",
       "4                  Director                 20.0     Senior  200000   \n",
       "...                     ...                  ...        ...     ...   \n",
       "6659               Director                 20.0     Senior  200000   \n",
       "6660              Developer                  1.0     Junior     550   \n",
       "6661                     HR                  4.0     Junior     500   \n",
       "6662             Managerial                 14.0  Mid-level  140000   \n",
       "6663               Business                  1.5     Junior     350   \n",
       "\n",
       "     Salary_division  \n",
       "0               High  \n",
       "1               High  \n",
       "2               High  \n",
       "3                Low  \n",
       "4               High  \n",
       "...              ...  \n",
       "6659            High  \n",
       "6660             Low  \n",
       "6661             Low  \n",
       "6662            High  \n",
       "6663             Low  \n",
       "\n",
       "[6664 rows x 9 columns]"
      ]
     },
     "execution_count": 120,
     "metadata": {},
     "output_type": "execute_result"
    }
   ],
   "source": [
    "#load dataset\n",
    "df = pd.read_csv('Salary_Data.csv')\n",
    "df"
   ]
  },
  {
   "cell_type": "code",
   "execution_count": 5,
   "id": "08a1befb-55cb-4ed4-bbde-a5aa3173e953",
   "metadata": {},
   "outputs": [
    {
     "name": "stdout",
     "output_type": "stream",
     "text": [
      "<class 'pandas.core.frame.DataFrame'>\n",
      "RangeIndex: 6664 entries, 0 to 6663\n",
      "Data columns (total 9 columns):\n",
      " #   Column               Non-Null Count  Dtype  \n",
      "---  ------               --------------  -----  \n",
      " 0   Age                  6664 non-null   int64  \n",
      " 1   Gender               6664 non-null   object \n",
      " 2   Education_Level      6664 non-null   object \n",
      " 3   Job Title            6664 non-null   object \n",
      " 4   Divisions            6664 non-null   object \n",
      " 5   Years of Experience  6664 non-null   float64\n",
      " 6   Rank                 6664 non-null   object \n",
      " 7   Salary               6664 non-null   int64  \n",
      " 8   Salary_division      6664 non-null   object \n",
      "dtypes: float64(1), int64(2), object(6)\n",
      "memory usage: 468.7+ KB\n"
     ]
    }
   ],
   "source": [
    "#viewing a quick overview of the dataset\n",
    "df.info()"
   ]
  },
  {
   "cell_type": "code",
   "execution_count": 7,
   "id": "588520f4-36c8-4783-a27b-e85124030e56",
   "metadata": {},
   "outputs": [
    {
     "data": {
      "text/plain": [
       "Age                    0\n",
       "Gender                 0\n",
       "Education_Level        0\n",
       "Job Title              0\n",
       "Divisions              0\n",
       "Years of Experience    0\n",
       "Rank                   0\n",
       "Salary                 0\n",
       "Salary_division        0\n",
       "dtype: int64"
      ]
     },
     "execution_count": 7,
     "metadata": {},
     "output_type": "execute_result"
    }
   ],
   "source": [
    "#checking for null values\n",
    "df.isnull().sum()"
   ]
  },
  {
   "cell_type": "code",
   "execution_count": 10,
   "id": "c020e275-166b-4270-946c-f84afb74421d",
   "metadata": {},
   "outputs": [
    {
     "data": {
      "text/html": [
       "<div>\n",
       "<style scoped>\n",
       "    .dataframe tbody tr th:only-of-type {\n",
       "        vertical-align: middle;\n",
       "    }\n",
       "\n",
       "    .dataframe tbody tr th {\n",
       "        vertical-align: top;\n",
       "    }\n",
       "\n",
       "    .dataframe thead th {\n",
       "        text-align: right;\n",
       "    }\n",
       "</style>\n",
       "<table border=\"1\" class=\"dataframe\">\n",
       "  <thead>\n",
       "    <tr style=\"text-align: right;\">\n",
       "      <th></th>\n",
       "      <th>Age</th>\n",
       "      <th>Years of Experience</th>\n",
       "      <th>Salary</th>\n",
       "    </tr>\n",
       "  </thead>\n",
       "  <tbody>\n",
       "    <tr>\n",
       "      <th>count</th>\n",
       "      <td>6664.0</td>\n",
       "      <td>6664.0</td>\n",
       "      <td>6664.0</td>\n",
       "    </tr>\n",
       "    <tr>\n",
       "      <th>mean</th>\n",
       "      <td>33.6</td>\n",
       "      <td>8.1</td>\n",
       "      <td>115547.5</td>\n",
       "    </tr>\n",
       "    <tr>\n",
       "      <th>std</th>\n",
       "      <td>7.6</td>\n",
       "      <td>6.0</td>\n",
       "      <td>52679.7</td>\n",
       "    </tr>\n",
       "    <tr>\n",
       "      <th>min</th>\n",
       "      <td>21.0</td>\n",
       "      <td>0.0</td>\n",
       "      <td>350.0</td>\n",
       "    </tr>\n",
       "    <tr>\n",
       "      <th>25%</th>\n",
       "      <td>28.0</td>\n",
       "      <td>3.0</td>\n",
       "      <td>70000.0</td>\n",
       "    </tr>\n",
       "    <tr>\n",
       "      <th>50%</th>\n",
       "      <td>32.0</td>\n",
       "      <td>7.0</td>\n",
       "      <td>115000.0</td>\n",
       "    </tr>\n",
       "    <tr>\n",
       "      <th>75%</th>\n",
       "      <td>38.0</td>\n",
       "      <td>12.0</td>\n",
       "      <td>160000.0</td>\n",
       "    </tr>\n",
       "    <tr>\n",
       "      <th>max</th>\n",
       "      <td>62.0</td>\n",
       "      <td>34.0</td>\n",
       "      <td>250000.0</td>\n",
       "    </tr>\n",
       "  </tbody>\n",
       "</table>\n",
       "</div>"
      ],
      "text/plain": [
       "          Age  Years of Experience    Salary\n",
       "count  6664.0               6664.0    6664.0\n",
       "mean     33.6                  8.1  115547.5\n",
       "std       7.6                  6.0   52679.7\n",
       "min      21.0                  0.0     350.0\n",
       "25%      28.0                  3.0   70000.0\n",
       "50%      32.0                  7.0  115000.0\n",
       "75%      38.0                 12.0  160000.0\n",
       "max      62.0                 34.0  250000.0"
      ]
     },
     "execution_count": 10,
     "metadata": {},
     "output_type": "execute_result"
    }
   ],
   "source": [
    "#viewing the descriptive stats of the dataset \n",
    "round(df.describe(),1)"
   ]
  },
  {
   "cell_type": "code",
   "execution_count": 13,
   "id": "9e9ffb4a-07af-48ed-8712-09e9df64e9e9",
   "metadata": {},
   "outputs": [
    {
     "data": {
      "image/png": "[encoded data removed]",
      "text/plain": [
       "<Figure size 640x480 with 4 Axes>"
      ]
     },
     "metadata": {},
     "output_type": "display_data"
    }
   ],
   "source": [
    "#plotting a histogram to help view the distribution of the dataset\n",
    "df.hist()\n",
    "plt.grid()"
   ]
  },
  {
   "cell_type": "code",
   "execution_count": 33,
   "id": "ea15c827-ac7a-4422-82c5-34ff3edb9562",
   "metadata": {},
   "outputs": [
    {
     "data": {
      "text/plain": [
       "<Axes: >"
      ]
     },
     "execution_count": 33,
     "metadata": {},
     "output_type": "execute_result"
    },
    {
     "data": {
      "image/png": "[encoded data removed]",
      "text/plain": [
       "<Figure size 640x480 with 1 Axes>"
      ]
     },
     "metadata": {},
     "output_type": "display_data"
    }
   ],
   "source": [
    "years_of_experience.boxplot(vert=False)"
   ]
  },
  {
   "cell_type": "code",
   "execution_count": 25,
   "id": "09af1d15-bc67-47f4-a876-c8669a05bc77",
   "metadata": {},
   "outputs": [
    {
     "data": {
      "text/plain": [
       "<Axes: >"
      ]
     },
     "execution_count": 25,
     "metadata": {},
     "output_type": "execute_result"
    },
    {
     "data": {
      "image/png": "[encoded data removed]",
      "text/plain": [
       "<Figure size 640x480 with 1 Axes>"
      ]
     },
     "metadata": {},
     "output_type": "display_data"
    }
   ],
   "source": [
    "Age = pd.DataFrame(df['Age'])\n",
    "Age.boxplot(vert=False)"
   ]
  },
  {
   "cell_type": "code",
   "execution_count": 26,
   "id": "88b4a39b-e214-457d-aac0-f251883f6075",
   "metadata": {},
   "outputs": [
    {
     "data": {
      "text/plain": [
       "<Axes: >"
      ]
     },
     "execution_count": 26,
     "metadata": {},
     "output_type": "execute_result"
    },
    {
     "data": {
      "image/png": "[encoded data removed]",
      "text/plain": [
       "<Figure size 640x480 with 1 Axes>"
      ]
     },
     "metadata": {},
     "output_type": "display_data"
    }
   ],
   "source": [
    "Salary = pd.DataFrame(df['Salary'])\n",
    "Salary.boxplot(vert=False)"
   ]
  },
  {
   "cell_type": "markdown",
   "id": "13fc2eeb-d69f-4b34-af88-8bde4df4169f",
   "metadata": {},
   "source": [
    "## The boxplots and histograms suggest that the columns exhibit right-skewed distributions. This can be observed from the histograms, where the bars are clustered towards the left with a tail extending towards the right. Additionally, the boxplots also support this observation, as the right whiskers are longer than the left ones."
   ]
  },
  {
   "cell_type": "markdown",
   "id": "cf751a4b-7d2b-4ce3-83d5-8400454f8683",
   "metadata": {},
   "source": [
    "## Upon analyzing the dataset, it becomes evident that there are relatively fewer professionals who are old based on the age column. Consequently, only a limited number of individuals possess significant years of experience. This conclusion is further supported by the histogram and boxplot for the age column."
   ]
  },
  {
   "cell_type": "markdown",
   "id": "8875fbf2-53c1-4c8f-9d0e-1cdd3fa04de3",
   "metadata": {},
   "source": [
    "## In contrast, the histogram and boxplot for the salary column show a distribution that is almost symmetric and well-spread. Although the distribution is slightly right-skewed, the median line lies in the middle, indicating a balanced distribution of salaries among professionals."
   ]
  },
  {
   "cell_type": "markdown",
   "id": "686e3040-07ea-458a-a9aa-e810c8f9894b",
   "metadata": {},
   "source": [
    "## In summary, the dataset portrays a right-skewed pattern in both age and experience columns due to the concentration of professionals at younger ages with varying levels of experience. On the other hand, the salary column exhibits a more balanced distribution, with salaries being reasonably spread across different values, as evidenced by an almost symmetric appearance of the histogram and the median line in the center of the boxplot."
   ]
  },
  {
   "cell_type": "code",
   "execution_count": 145,
   "id": "685bbefd-4f32-4b8b-a340-63d8fed614b7",
   "metadata": {},
   "outputs": [
    {
     "data": {
      "image/png": "[encoded data removed]",
      "text/plain": [
       "<Figure size 640x480 with 2 Axes>"
      ]
     },
     "metadata": {},
     "output_type": "display_data"
    }
   ],
   "source": [
    "##plotting a heatmap to view the correlation between different numeric columns\n",
    "sns.heatmap(df.corr())\n",
    "plt.show()"
   ]
  },
  {
   "cell_type": "markdown",
   "id": "68170d80-e0db-4bbe-8bcf-08fe742a435c",
   "metadata": {},
   "source": [
    "## The correlation analysis provides insights into the relationships between numeric columns. Specifically, my focus lies on examining how age and experience of professionals in this dataset interact with each other."
   ]
  },
  {
   "cell_type": "markdown",
   "id": "76aba774-9e99-45b0-b8dd-7d8cde0ae995",
   "metadata": {},
   "source": [
    "## Upon investigating the correlation between the salary and years of experience columns, we observe a positive correlation of 0.80, indicating that an increase in years of experience corresponds to a gradual increase in salary. While the correlation is not perfect, it demonstrates a strong relationship between these variables, implying that higher experience is generally associated with higher salaries."
   ]
  },
  {
   "cell_type": "markdown",
   "id": "6318c7a3-34a5-4931-9daf-5b6d99f84e1c",
   "metadata": {},
   "source": [
    "## However, when assessing the correlation between age and salary, we find a slightly lower correlation coefficient of 0.75. The color-coded representation emphasizes that black, representing the least correlation, corresponds to this coefficient. This suggests that age has a relatively smaller impact on determining the salary one receives. Nonetheless, it is important to note that some influence still exists between age and salary, albeit less pronounced compared to the correlation between experience and salary."
   ]
  },
  {
   "cell_type": "code",
   "execution_count": 84,
   "id": "1b1f9440-7d84-447f-a68c-363d1296dc15",
   "metadata": {},
   "outputs": [
    {
     "data": {
      "text/plain": [
       "Age                    0\n",
       "Gender                 0\n",
       "Education_Level        0\n",
       "Job Title              0\n",
       "Divisions              0\n",
       "Years of Experience    0\n",
       "Rank                   0\n",
       "Salary                 0\n",
       "Salary_division        0\n",
       "dtype: int64"
      ]
     },
     "execution_count": 84,
     "metadata": {},
     "output_type": "execute_result"
    }
   ],
   "source": [
    "df.isnull().sum()"
   ]
  },
  {
   "cell_type": "code",
   "execution_count": 53,
   "id": "9ec7cbc7-5fc2-4f40-8b11-61783fd0fcc7",
   "metadata": {},
   "outputs": [],
   "source": [
    "df.replace('Master', \"Master's\", inplace=True)"
   ]
  },
  {
   "cell_type": "code",
   "execution_count": 56,
   "id": "dbdf9897-07ce-45a8-8737-83b8b7861d6c",
   "metadata": {},
   "outputs": [
    {
     "data": {
      "text/plain": [
       "array([\"Master's\", 'PhD', \"Bachelor's\", 'High School', 'phD'],\n",
       "      dtype=object)"
      ]
     },
     "execution_count": 56,
     "metadata": {},
     "output_type": "execute_result"
    }
   ],
   "source": [
    "df['Education_Level'].unique()"
   ]
  },
  {
   "cell_type": "code",
   "execution_count": 55,
   "id": "bc32c68c-19a6-4a28-8ee0-9ae4d1b2a535",
   "metadata": {},
   "outputs": [],
   "source": [
    "df.replace(\"Bachelor's Degree\", \"Bachelor's\", inplace=True)"
   ]
  },
  {
   "cell_type": "code",
   "execution_count": 57,
   "id": "9efeaefe-10fc-4ff0-8b57-5cad139febcd",
   "metadata": {},
   "outputs": [],
   "source": [
    "df.replace('phD', 'PhD', inplace=True)"
   ]
  },
  {
   "cell_type": "code",
   "execution_count": 119,
   "id": "88eb1fea-8acc-4a7a-8b60-9233e71e8ba6",
   "metadata": {},
   "outputs": [
    {
     "data": {
      "text/plain": [
       "array([\"Master's\", 'PhD', \"Bachelor's\", 'High School'], dtype=object)"
      ]
     },
     "execution_count": 119,
     "metadata": {},
     "output_type": "execute_result"
    }
   ],
   "source": [
    "df['Education_Level'].unique()"
   ]
  },
  {
   "cell_type": "code",
   "execution_count": 121,
   "id": "6acc30d4-a3a5-4688-a4ee-f7b5bb4689ce",
   "metadata": {},
   "outputs": [
    {
     "data": {
      "text/html": [
       "<div>\n",
       "<style scoped>\n",
       "    .dataframe tbody tr th:only-of-type {\n",
       "        vertical-align: middle;\n",
       "    }\n",
       "\n",
       "    .dataframe tbody tr th {\n",
       "        vertical-align: top;\n",
       "    }\n",
       "\n",
       "    .dataframe thead th {\n",
       "        text-align: right;\n",
       "    }\n",
       "</style>\n",
       "<table border=\"1\" class=\"dataframe\">\n",
       "  <thead>\n",
       "    <tr style=\"text-align: right;\">\n",
       "      <th></th>\n",
       "      <th>Age</th>\n",
       "      <th>Gender</th>\n",
       "      <th>Education_Level</th>\n",
       "      <th>Job Title</th>\n",
       "      <th>Divisions</th>\n",
       "      <th>Years of Experience</th>\n",
       "      <th>Rank</th>\n",
       "      <th>Salary</th>\n",
       "      <th>Salary_division</th>\n",
       "    </tr>\n",
       "  </thead>\n",
       "  <tbody>\n",
       "    <tr>\n",
       "      <th>0</th>\n",
       "      <td>29</td>\n",
       "      <td>Female</td>\n",
       "      <td>Master's Degree</td>\n",
       "      <td>Data Scientist</td>\n",
       "      <td>Science and Analytics</td>\n",
       "      <td>4.0</td>\n",
       "      <td>Junior</td>\n",
       "      <td>182000</td>\n",
       "      <td>High</td>\n",
       "    </tr>\n",
       "    <tr>\n",
       "      <th>1</th>\n",
       "      <td>30</td>\n",
       "      <td>Male</td>\n",
       "      <td>PhD</td>\n",
       "      <td>Data Scientist</td>\n",
       "      <td>Science and Analytics</td>\n",
       "      <td>5.0</td>\n",
       "      <td>Junior</td>\n",
       "      <td>180000</td>\n",
       "      <td>High</td>\n",
       "    </tr>\n",
       "    <tr>\n",
       "      <th>2</th>\n",
       "      <td>45</td>\n",
       "      <td>Male</td>\n",
       "      <td>PhD</td>\n",
       "      <td>Senior Manager</td>\n",
       "      <td>Managerial</td>\n",
       "      <td>15.0</td>\n",
       "      <td>Senior</td>\n",
       "      <td>150000</td>\n",
       "      <td>High</td>\n",
       "    </tr>\n",
       "    <tr>\n",
       "      <th>3</th>\n",
       "      <td>36</td>\n",
       "      <td>Female</td>\n",
       "      <td>Bachelor's</td>\n",
       "      <td>Sales Associate</td>\n",
       "      <td>Sales</td>\n",
       "      <td>7.0</td>\n",
       "      <td>Mid-level</td>\n",
       "      <td>60000</td>\n",
       "      <td>Low</td>\n",
       "    </tr>\n",
       "    <tr>\n",
       "      <th>4</th>\n",
       "      <td>52</td>\n",
       "      <td>Male</td>\n",
       "      <td>Master's</td>\n",
       "      <td>Director</td>\n",
       "      <td>Director</td>\n",
       "      <td>20.0</td>\n",
       "      <td>Senior</td>\n",
       "      <td>200000</td>\n",
       "      <td>High</td>\n",
       "    </tr>\n",
       "    <tr>\n",
       "      <th>...</th>\n",
       "      <td>...</td>\n",
       "      <td>...</td>\n",
       "      <td>...</td>\n",
       "      <td>...</td>\n",
       "      <td>...</td>\n",
       "      <td>...</td>\n",
       "      <td>...</td>\n",
       "      <td>...</td>\n",
       "      <td>...</td>\n",
       "    </tr>\n",
       "    <tr>\n",
       "      <th>6659</th>\n",
       "      <td>49</td>\n",
       "      <td>Female</td>\n",
       "      <td>PhD</td>\n",
       "      <td>Director of Marketing</td>\n",
       "      <td>Director</td>\n",
       "      <td>20.0</td>\n",
       "      <td>Senior</td>\n",
       "      <td>200000</td>\n",
       "      <td>High</td>\n",
       "    </tr>\n",
       "    <tr>\n",
       "      <th>6660</th>\n",
       "      <td>25</td>\n",
       "      <td>Female</td>\n",
       "      <td>Bachelor's Degree</td>\n",
       "      <td>Front end Developer</td>\n",
       "      <td>Developer</td>\n",
       "      <td>1.0</td>\n",
       "      <td>Junior</td>\n",
       "      <td>550</td>\n",
       "      <td>Low</td>\n",
       "    </tr>\n",
       "    <tr>\n",
       "      <th>6661</th>\n",
       "      <td>31</td>\n",
       "      <td>Female</td>\n",
       "      <td>Bachelor's Degree</td>\n",
       "      <td>Junior HR Coordinator</td>\n",
       "      <td>HR</td>\n",
       "      <td>4.0</td>\n",
       "      <td>Junior</td>\n",
       "      <td>500</td>\n",
       "      <td>Low</td>\n",
       "    </tr>\n",
       "    <tr>\n",
       "      <th>6662</th>\n",
       "      <td>46</td>\n",
       "      <td>Male</td>\n",
       "      <td>Master's Degree</td>\n",
       "      <td>Marketing Manager</td>\n",
       "      <td>Managerial</td>\n",
       "      <td>14.0</td>\n",
       "      <td>Mid-level</td>\n",
       "      <td>140000</td>\n",
       "      <td>High</td>\n",
       "    </tr>\n",
       "    <tr>\n",
       "      <th>6663</th>\n",
       "      <td>29</td>\n",
       "      <td>Male</td>\n",
       "      <td>Bachelor's</td>\n",
       "      <td>Junior Business Operations Analyst</td>\n",
       "      <td>Business</td>\n",
       "      <td>1.5</td>\n",
       "      <td>Junior</td>\n",
       "      <td>350</td>\n",
       "      <td>Low</td>\n",
       "    </tr>\n",
       "  </tbody>\n",
       "</table>\n",
       "<p>6664 rows × 9 columns</p>\n",
       "</div>"
      ],
      "text/plain": [
       "      Age  Gender    Education_Level                           Job Title  \\\n",
       "0      29  Female    Master's Degree                      Data Scientist   \n",
       "1      30    Male                PhD                      Data Scientist   \n",
       "2      45    Male                PhD                      Senior Manager   \n",
       "3      36  Female         Bachelor's                     Sales Associate   \n",
       "4      52    Male           Master's                            Director   \n",
       "...   ...     ...                ...                                 ...   \n",
       "6659   49  Female                PhD               Director of Marketing   \n",
       "6660   25  Female  Bachelor's Degree                 Front end Developer   \n",
       "6661   31  Female  Bachelor's Degree               Junior HR Coordinator   \n",
       "6662   46    Male    Master's Degree                   Marketing Manager   \n",
       "6663   29    Male         Bachelor's  Junior Business Operations Analyst   \n",
       "\n",
       "                  Divisions  Years of Experience       Rank  Salary  \\\n",
       "0     Science and Analytics                  4.0     Junior  182000   \n",
       "1     Science and Analytics                  5.0     Junior  180000   \n",
       "2                Managerial                 15.0     Senior  150000   \n",
       "3                     Sales                  7.0  Mid-level   60000   \n",
       "4                  Director                 20.0     Senior  200000   \n",
       "...                     ...                  ...        ...     ...   \n",
       "6659               Director                 20.0     Senior  200000   \n",
       "6660              Developer                  1.0     Junior     550   \n",
       "6661                     HR                  4.0     Junior     500   \n",
       "6662             Managerial                 14.0  Mid-level  140000   \n",
       "6663               Business                  1.5     Junior     350   \n",
       "\n",
       "     Salary_division  \n",
       "0               High  \n",
       "1               High  \n",
       "2               High  \n",
       "3                Low  \n",
       "4               High  \n",
       "...              ...  \n",
       "6659            High  \n",
       "6660             Low  \n",
       "6661             Low  \n",
       "6662            High  \n",
       "6663             Low  \n",
       "\n",
       "[6664 rows x 9 columns]"
      ]
     },
     "execution_count": 121,
     "metadata": {},
     "output_type": "execute_result"
    }
   ],
   "source": [
    "df"
   ]
  },
  {
   "cell_type": "code",
   "execution_count": 124,
   "id": "54638d67-4cb8-47d1-bec0-3528c8852c07",
   "metadata": {},
   "outputs": [
    {
     "data": {
      "text/plain": [
       "array(['Data Scientist', 'Senior Manager', 'Sales Associate', 'Director',\n",
       "       'Product Manager', 'Senior Scientist', 'HR', 'Project Manager',\n",
       "       'Operations Manager', 'Marketing Manager', 'Senior Engineer',\n",
       "       'Data Entry Clerk', 'Sales Director', 'VP of Operations',\n",
       "       'Recruiter', 'Financial Manager', 'Software Manager',\n",
       "       'Senior Consultant', 'CEO', 'Marketing Specialist',\n",
       "       'Project Engineer', 'Sales Executive', 'Operations Director',\n",
       "       'Accountant', 'Strategy Consultant', 'Director of Marketing',\n",
       "       'Help Desk Analyst', 'Customer Service Manager',\n",
       "       'Business Analyst', 'Event Coordinator', 'VP of Finance',\n",
       "       'Sales Manager', 'Director of Operations', 'Senior Data Scientist',\n",
       "       'Digital Marketing Manager', 'IT Manager',\n",
       "       'Business Development Manager', 'Senior Financial Analyst',\n",
       "       'Research Director', 'Creative Director', 'Technical Recruiter',\n",
       "       'Data Analyst', 'Sales Representative', 'Chief Technology Officer',\n",
       "       'Financial Advisor', 'Senior Project Manager',\n",
       "       'Principal Scientist', 'Supply Chain Manager',\n",
       "       'Senior Marketing Manager', 'Training Specialist',\n",
       "       'Research Scientist', 'Public Relations Manager',\n",
       "       'Operations Analyst', 'Product Marketing Manager',\n",
       "       'Senior Project Coordinator', 'Chief Data Officer',\n",
       "       'IT Support Specialist', 'Senior Marketing Analyst',\n",
       "       'Senior Graphic Designer', 'Software Project Manager',\n",
       "       'Supply Chain Analyst', 'Junior Marketing Analyst',\n",
       "       'Office Manager', 'Principal Engineer', 'Senior Product Manager',\n",
       "       'Sales Operations Manager', 'Senior Software Developer',\n",
       "       'Senior Training Specialist', 'Senior Research Scientist',\n",
       "       'Software Engineer', 'Senior Product Marketing Manager',\n",
       "       'Senior Sales Manager', 'Senior Business Analyst',\n",
       "       'Senior Accountant', 'Director of Sales and Marketing',\n",
       "       'Senior Business Development Manager', 'Senior Product Designer',\n",
       "       'Senior IT Support Specialist', 'Senior Operations Manager',\n",
       "       'Director of HR', 'Senior Sales Representative',\n",
       "       'Director of Product Management', 'Senior Marketing Coordinator',\n",
       "       'Senior Human Resources Manager', 'Senior Account Manager',\n",
       "       'Senior Researcher', 'Senior Software Engineer',\n",
       "       'Director of Finance', 'Senior Operations Analyst',\n",
       "       'Senior Human Resources Coordinator', 'Senior UX Designer',\n",
       "       'Senior Marketing Specialist', 'Senior IT Project Manager',\n",
       "       'Senior Quality Assurance Analyst', 'Senior Account Executive',\n",
       "       'Director of Business Development',\n",
       "       'Senior Human Resources Specialist', 'Senior Data Analyst',\n",
       "       'Senior Marketing Director', 'Senior IT Consultant',\n",
       "       'Senior Product Development Manager', 'Senior Software Architect',\n",
       "       'Senior Financial Manager', 'Senior Data Engineer',\n",
       "       'Senior Operations Coordinator', 'Director of Engineering',\n",
       "       'Full Stack Engineer', 'Back end Developer',\n",
       "       'Senior Project Engineer', 'Software Engineer Manager',\n",
       "       'Front end Developer', 'Senior Financial Advisor',\n",
       "       'Financial Analyst', 'Marketing Coordinator', 'Product Designer',\n",
       "       'Software Developer', 'UX Designer', 'Director of Data Science',\n",
       "       'Front End Developer', 'Web Developer',\n",
       "       'Content Marketing Manager', 'Marketing Analyst',\n",
       "       'Junior Sales Representative', 'Junior Marketing Manager',\n",
       "       'Junior Operations Manager', 'Junior Operations Analyst',\n",
       "       'Junior Financial Analyst', 'Junior Marketing Specialist',\n",
       "       'Junior Data Analyst', 'UX Researcher', 'Junior Product Manager',\n",
       "       'Junior Financial Advisor', 'Network Engineer',\n",
       "       'Junior Project Manager', 'Junior Business Analyst',\n",
       "       'Junior HR Coordinator', 'Junior HR Generalist',\n",
       "       'Graphic Designer', 'Social Media Manager',\n",
       "       'Junior Account Manager', 'Junior Marketing Coordinator',\n",
       "       'Junior Web Developer', 'Junior Software Engineer', 'IT Support',\n",
       "       'Customer Service Representative', 'Digital Content Producer',\n",
       "       'Junior Software Developer', 'Junior Accountant',\n",
       "       'Junior Research Scientist',\n",
       "       'Junior Business Development Associate', 'Marketing Director',\n",
       "       'Social Media Man', 'Social Media Specialist', 'Technical Writer',\n",
       "       'Junior Recruiter', 'Junior Copywriter', 'Junior Data Scientist',\n",
       "       'Junior Social Media Manager', 'Junior Advertising Coordinator',\n",
       "       'Junior UX Designer', 'Juniour HR Coordinator', 'Delivery Driver',\n",
       "       'Junior Sales Associate', 'Customer Service Rep',\n",
       "       'Junior Developer', 'Customer Success Rep', 'Copywriter',\n",
       "       'Technical Support Specialist', 'Junior Designer',\n",
       "       'Customer Success Manager', 'Junior Operations Coordinator',\n",
       "       'Junior Customer Support Specialist',\n",
       "       'Junior Business Operations Analyst', 'Receptionist'], dtype=object)"
      ]
     },
     "execution_count": 124,
     "metadata": {},
     "output_type": "execute_result"
    }
   ],
   "source": [
    "#Viewing the different job titles in the dataset\n",
    "df['Job Title'].unique()"
   ]
  },
  {
   "cell_type": "code",
   "execution_count": 125,
   "id": "b89545b9-97fd-470c-bf80-dc2ba25fdfdd",
   "metadata": {},
   "outputs": [
    {
     "data": {
      "text/plain": [
       "array(['High', 'Low', 'Moderate'], dtype=object)"
      ]
     },
     "execution_count": 125,
     "metadata": {},
     "output_type": "execute_result"
    }
   ],
   "source": [
    "df['Salary_division'].unique()"
   ]
  },
  {
   "cell_type": "markdown",
   "id": "ea1687cd-5f83-4d3b-bfce-8b516ddb1c54",
   "metadata": {},
   "source": [
    "## Exploring the values in categorical columns and examining the corresponding salary allocations for each category."
   ]
  },
  {
   "cell_type": "code",
   "execution_count": 142,
   "id": "3e2cccfc-8f47-40b2-a4f8-f2d193264881",
   "metadata": {},
   "outputs": [
    {
     "data": {
      "text/plain": [
       "Rank\n",
       "Executive     190668.2\n",
       "Managerial    189608.5\n",
       "Senior        179977.4\n",
       "Mid-level     141537.3\n",
       "Junior         76625.6\n",
       "Intern         30444.1\n",
       "Name: Salary, dtype: float64"
      ]
     },
     "execution_count": 142,
     "metadata": {},
     "output_type": "execute_result"
    }
   ],
   "source": [
    "round(df.groupby('Rank')['Salary'].mean().sort_values(ascending=False), 1)"
   ]
  },
  {
   "cell_type": "code",
   "execution_count": 130,
   "id": "769ee0ee-7294-4cea-8842-c8eed05211f5",
   "metadata": {},
   "outputs": [
    {
     "data": {
      "text/plain": [
       "Divisions\n",
       "Director                 155790.1\n",
       "Science and Analytics    145901.9\n",
       "Engineering              131932.6\n",
       "Managerial               131057.8\n",
       "Finance                   88474.6\n",
       "Operations                81500.0\n",
       "Developer                 79377.5\n",
       "Business                  78343.1\n",
       "HR                        74583.1\n",
       "Marketing                 69868.2\n",
       "Accountant                62000.0\n",
       "Sales                     35336.5\n",
       "Customer Care             26478.9\n",
       "Name: Salary, dtype: float64"
      ]
     },
     "execution_count": 130,
     "metadata": {},
     "output_type": "execute_result"
    }
   ],
   "source": [
    "round(df.groupby('Divisions')['Salary'].mean().sort_values(ascending=False), 1)"
   ]
  },
  {
   "cell_type": "code",
   "execution_count": 131,
   "id": "e81d9bf9-1496-4077-b5ca-eb10c924f50d",
   "metadata": {},
   "outputs": [
    {
     "data": {
      "text/plain": [
       "Gender\n",
       "Male      121395.7\n",
       "Female    108374.5\n",
       "Name: Salary, dtype: float64"
      ]
     },
     "execution_count": 131,
     "metadata": {},
     "output_type": "execute_result"
    }
   ],
   "source": [
    "round(df.groupby('Gender')['Salary'].mean().sort_values(ascending=False), 1)"
   ]
  },
  {
   "cell_type": "markdown",
   "id": "2518dc93-935b-4b9c-afb3-7fe6d1ce3a16",
   "metadata": {},
   "source": [
    "## On average, male individuals have a salary income of over 12,000, while female individuals have a slightly higher than 10,000 on average.\n",
    "\r\n",
    "\r\n"
   ]
  },
  {
   "cell_type": "markdown",
   "id": "99e04805-25d8-435a-87dd-6f321e7b5a16",
   "metadata": {},
   "source": [
    "# Conclusion"
   ]
  },
  {
   "cell_type": "markdown",
   "id": "dd5fa95a-a91d-495d-b050-32f3ab910d39",
   "metadata": {},
   "source": [
    "## 1. Right-skewed Distributions: The boxplots and histograms indicate that both the age and experience columns exhibit right-skewed distributions. This suggests that the majority of professionals are concentrated at younger ages with varying levels of experience, while a smaller proportion of individuals possess significant years of experience."
   ]
  },
  {
   "cell_type": "markdown",
   "id": "27e273e5-a23a-4796-b936-ab0ac4c4e5cc",
   "metadata": {},
   "source": [
    "## 2. Salary Distribution: In contrast to the age and experience columns, the salary column shows a more balanced distribution. Although the distribution is slightly right-skewed, the histogram and boxplot reveal that salaries are reasonably spread across different values. The median line being in the center of the boxplot indicates a relatively symmetrical distribution of salaries among professionals."
   ]
  },
  {
   "cell_type": "markdown",
   "id": "88f344c9-906c-47a3-b596-f1f5627b0147",
   "metadata": {},
   "source": [
    "## 3. Correlation between Variables: The correlation analysis reveals strong relationships between certain numeric columns. Specifically, there is a positive correlation of 0.80 between salary and years of experience, indicating that as experience increases, salaries tend to increase gradually. On the other hand, the correlation between age and salary is slightly lower (0.75), suggesting that age has a relatively smaller impact on determining salary compared to the correlation between experience and salary."
   ]
  }
 ],
 "metadata": {
  "kernelspec": {
   "display_name": "Python 3 (ipykernel)",
   "language": "python",
   "name": "python3"
  },
  "language_info": {
   "codemirror_mode": {
    "name": "ipython",
    "version": 3
   },
   "file_extension": ".py",
   "mimetype": "text/x-python",
   "name": "python",
   "nbconvert_exporter": "python",
   "pygments_lexer": "ipython3",
   "version": "3.11.1"
  }
 },
 "nbformat": 4,
 "nbformat_minor": 5
}
